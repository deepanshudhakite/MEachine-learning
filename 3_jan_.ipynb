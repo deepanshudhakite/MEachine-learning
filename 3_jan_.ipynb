{
 "cells": [
  {
   "cell_type": "code",
   "execution_count": null,
   "id": "9f7b86ca",
   "metadata": {},
   "outputs": [],
   "source": [
    "def factorial(n):\n",
    "    ifn==0 or n==1:\n",
    "        return 1\n",
    "    else:\n",
    "        return n * factorial (n-1)\n",
    " print(factorial(int(input)))"
   ]
  }
 ],
 "metadata": {
  "kernelspec": {
   "display_name": "Python 3 (ipykernel)",
   "language": "python",
   "name": "python3"
  },
  "language_info": {
   "codemirror_mode": {
    "name": "ipython",
    "version": 3
   },
   "file_extension": ".py",
   "mimetype": "text/x-python",
   "name": "python",
   "nbconvert_exporter": "python",
   "pygments_lexer": "ipython3",
   "version": "3.11.5"
  }
 },
 "nbformat": 4,
 "nbformat_minor": 5
}
